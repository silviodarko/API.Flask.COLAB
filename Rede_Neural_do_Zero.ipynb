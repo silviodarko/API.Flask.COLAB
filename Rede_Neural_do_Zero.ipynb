{
  "nbformat": 4,
  "nbformat_minor": 0,
  "metadata": {
    "colab": {
      "provenance": [],
      "authorship_tag": "ABX9TyM6LWf2PJ1W7DmrHqLAAU7Y",
      "include_colab_link": true
    },
    "kernelspec": {
      "name": "python3",
      "display_name": "Python 3"
    },
    "language_info": {
      "name": "python"
    }
  },
  "cells": [
    {
      "cell_type": "markdown",
      "metadata": {
        "id": "view-in-github",
        "colab_type": "text"
      },
      "source": [
        "<a href=\"https://colab.research.google.com/github/silviodarko/API.Flask.COLAB/blob/main/Rede_Neural_do_Zero.ipynb\" target=\"_parent\"><img src=\"https://colab.research.google.com/assets/colab-badge.svg\" alt=\"Open In Colab\"/></a>"
      ]
    },
    {
      "cell_type": "code",
      "source": [
        "import numpy as np\n",
        "import torch\n",
        "import torch.nn.functional as F\n",
        "import torchvision\n",
        "import matplotlib.pyplot as plt\n",
        "from time import time\n",
        "from torchvision import datasets, transforms\n",
        "from torch import nn, optim\n",
        "\n",
        "transform = transforms.ToTensor()  # definindo a conversão de imagem para tensor\n",
        "\n",
        "trainset = datasets.MNIST('./MNIST_data/', download=True, train=True, transform=transform) # carrega parte de treino do dataset\n",
        "trainloader = torch.utils.data.DataLoader(trainset, batch_size=64, shuffle=True)  # Cria um buffer para pegar os dados por partes\n",
        "\n",
        "valset = datasets.MNIST('./MNIST_data/', download=True, train=False, transform=transform)  # Carrega a parte de validação do dataset\n",
        "valloader = torch.utils.data.DataLoader(valset, batch_size=64, shuffle=True)  # Cria um buffer para pegar os dados por partes\n",
        "\n",
        "dataiter = iter(trainloader)\n",
        "imagens, etiquetas = next(dataiter)  # Usando a função next() corretamente\n",
        "\n",
        "print(imagens[0].shape)\n",
        "print(etiquetas[0].shape)\n",
        "\n",
        "class Modelo(nn.Module):\n",
        "    def __init__(self):\n",
        "        super(Modelo, self).__init__()\n",
        "        self.linear1 = nn.Linear(28 * 28, 128)\n",
        "        self.linear2 = nn.Linear(128, 64)\n",
        "        self.linear3 = nn.Linear(64, 10)\n",
        "\n",
        "    def forward(self, X):\n",
        "        X = F.relu(self.linear1(X))\n",
        "        X = F.relu(self.linear2(X))\n",
        "        X = self.linear3(X)\n",
        "        return F.log_softmax(X, dim=1)\n",
        "\n",
        "# Instanciar o modelo\n",
        "modelo = Modelo()\n",
        "print(modelo)\n"
      ],
      "metadata": {
        "colab": {
          "base_uri": "https://localhost:8080/"
        },
        "id": "ZMY2w4FLySpg",
        "outputId": "a8e773ae-c790-43b7-d58f-dbec797a9e51"
      },
      "execution_count": 28,
      "outputs": [
        {
          "output_type": "stream",
          "name": "stdout",
          "text": [
            "torch.Size([1, 28, 28])\n",
            "torch.Size([])\n",
            "Modelo(\n",
            "  (linear1): Linear(in_features=784, out_features=128, bias=True)\n",
            "  (linear2): Linear(in_features=128, out_features=64, bias=True)\n",
            "  (linear3): Linear(in_features=64, out_features=10, bias=True)\n",
            ")\n"
          ]
        }
      ]
    },
    {
      "cell_type": "code",
      "source": [
        "def treino(modelo, trainloader, device):\n",
        "    otimizador = optim.SGD(modelo.parameters(), lr=0.01, momentum=0.5)\n",
        "    inicio = time()\n",
        "\n",
        "    criterio = nn.NLLLoss()\n",
        "    EPOCHS = 30\n",
        "    modelo.train()\n",
        "    for epoch in range(EPOCHS):\n",
        "        perda_acumulada = 0\n",
        "\n",
        "        for imagens, etiquetas in trainloader:\n",
        "\n",
        "            imagens = imagens.view(imagens.shape[0], -1)\n",
        "            otimizador.zero_grad()\n",
        "\n",
        "            output = modelo(imagens.to(device))\n",
        "            perda_instantanea = criterio(output, etiquetas.to(device))\n",
        "\n",
        "            perda_instantanea.backward()\n",
        "\n",
        "            otimizador.step()\n",
        "\n",
        "            perda_acumulada += perda_instantanea.item()\n",
        "\n",
        "        else:\n",
        "            print(\"Epoch {} - Perda resultante: {}\".format(epoch+1, perda_acumulada/len(trainloader)))\n",
        "\n",
        "    print(\"\\nTempo de treino (em minutos) =\", (time()-inicio)/60)\n"
      ],
      "metadata": {
        "id": "T3R2vexf1KYh"
      },
      "execution_count": 29,
      "outputs": []
    },
    {
      "cell_type": "code",
      "source": [
        "def validacao(modelo, valloader, device):\n",
        "    conta_corretas, conta_todas = 0, 0\n",
        "    for imagens, etiquetas in valloader:\n",
        "        for i in range(len(etiquetas)):\n",
        "            img = imagens[i].view(1, 784)\n",
        "\n",
        "            with torch.no_grad():\n",
        "                logps = modelo(img.to(device))\n",
        "                ps = torch.exp(logps)\n",
        "                probab = list(ps.cpu().numpy()[0])\n",
        "                etiqueta_pred = probab.index(max(probab))\n",
        "                etiqueta_certa = etiquetas.numpy()[i]\n",
        "                if etiqueta_certa == etiqueta_pred:\n",
        "                    conta_corretas += 1\n",
        "                conta_todas += 1\n",
        "        print(\"Total de imagens testadas =\", conta_todas)\n",
        "        print(\"\\nPrecisão do modelo {}%\".format(conta_corretas * 100 / conta_todas))\n"
      ],
      "metadata": {
        "id": "b6F1ZgEY6D7I"
      },
      "execution_count": 30,
      "outputs": []
    },
    {
      "cell_type": "code",
      "source": [
        "modelo = Modelo()\n",
        "device = torch.device(\"cuda\" if torch.cuda.is_available() else \"cpu\")\n",
        "modelo.to(device)"
      ],
      "metadata": {
        "colab": {
          "base_uri": "https://localhost:8080/"
        },
        "id": "BXXWtRTb9700",
        "outputId": "d53129bc-2114-4449-99e3-7f007eccdd2c"
      },
      "execution_count": 31,
      "outputs": [
        {
          "output_type": "execute_result",
          "data": {
            "text/plain": [
              "Modelo(\n",
              "  (linear1): Linear(in_features=784, out_features=128, bias=True)\n",
              "  (linear2): Linear(in_features=128, out_features=64, bias=True)\n",
              "  (linear3): Linear(in_features=64, out_features=10, bias=True)\n",
              ")"
            ]
          },
          "metadata": {},
          "execution_count": 31
        }
      ]
    }
  ]
}